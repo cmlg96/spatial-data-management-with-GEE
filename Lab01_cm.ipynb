{
  "nbformat": 4,
  "nbformat_minor": 0,
  "metadata": {
    "colab": {
      "provenance": [],
      "authorship_tag": "ABX9TyPX99DmOWdsCHKgOZP3yH34",
      "include_colab_link": true
    },
    "kernelspec": {
      "name": "python3",
      "display_name": "Python 3"
    },
    "language_info": {
      "name": "python"
    }
  },
  "cells": [
    {
      "cell_type": "markdown",
      "metadata": {
        "id": "view-in-github",
        "colab_type": "text"
      },
      "source": [
        "<a href=\"https://colab.research.google.com/github/cmlg96/spatial-data-management-with-GEE/blob/main/Lab01_cm.ipynb\" target=\"_parent\"><img src=\"https://colab.research.google.com/assets/colab-badge.svg\" alt=\"Open In Colab\"/></a>"
      ]
    },
    {
      "cell_type": "code",
      "execution_count": null,
      "metadata": {
        "id": "n_MlgK4fucTD"
      },
      "outputs": [],
      "source": [
        "#!pip install leafmap ipyleaflet"
      ]
    },
    {
      "cell_type": "code",
      "source": [
        "import leafmap\n",
        "\n",
        "# Crear un mapa interactivo\n",
        "m = leafmap.Map(center=[20, 0], zoom=2, height='600px')\n",
        "\n",
        "# Agregar un mapa base\n",
        "m.add_basemap(\"CartoDB.DarkMatter\")\n",
        "\n",
        "# Agregar texto al mapa\n",
        "text = \"Clara MR\"\n",
        "m.add_text(text, fontsize=20, position='bottomright')\n",
        "\n",
        "# Agregar un logo al mapa\n",
        "logo = 'https://colab.research.google.com/img/colab_favicon_256px.png'\n",
        "m.add_image(logo, position=\"bottomright\", width=\"100px\")\n",
        "\n",
        "# Agregar datos GeoJSON al mapa\n",
        "geojson_url = \"https://raw.githubusercontent.com/leakyMirror/map-of-europe/master/GeoJSON/europe.geojson\"\n",
        "\n",
        "\n",
        "# Estilo para el GeoJSON (perfilado azul y relleno transparente)\n",
        "geojson_style = {\n",
        "    'fillColor': '#0000FF',  # Color de relleno (azul)\n",
        "    'color': '#0000FF',      # Color del borde (azul)\n",
        "    'weight': 2,             # Grosor de la línea del borde\n",
        "    'opacity': 1,            # Opacidad del borde\n",
        "    'fillOpacity': 0         # Relleno completamente transparente\n",
        "}\n",
        "\n",
        "# Agregar datos GeoJSON al mapa con estilo\n",
        "try:\n",
        "    m.add_geojson(geojson_url, layer_name=\"Europe\", style=geojson_style)\n",
        "except Exception as e:\n",
        "    print(\"Error al cargar el GeoJSON:\", e)\n",
        "\n",
        "# Mostrar el mapa\n",
        "m\n"
      ],
      "metadata": {
        "id": "s--iD10MugIh"
      },
      "execution_count": null,
      "outputs": []
    }
  ]
}